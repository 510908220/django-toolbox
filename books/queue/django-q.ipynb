{
 "cells": [
  {
   "cell_type": "markdown",
   "metadata": {},
   "source": [
    "# [Django Q](https://django-q.readthedocs.io/en/latest/)\n",
    "> Django Q 是一个django任务队列, 调度器，woker使用的是python的多进程.\n"
   ]
  },
  {
   "cell_type": "markdown",
   "metadata": {},
   "source": [
    "## [准备](https://django-q.readthedocs.io/en/latest/install.html)"
   ]
  },
  {
   "cell_type": "markdown",
   "metadata": {},
   "source": [
    "- ```pip install django-q```\n",
    "\n",
    "- ```INSTALLED_APPS = (\n",
    "    'django_q',\n",
    ")```\n",
    "- ```python manage.py migrate```\n",
    "- 选择一个消息中间件,这里用的是django自带的数据库.```Q_CLUSTER = {\n",
    "    'name': 'DjangORM',\n",
    "    'workers': 4,\n",
    "    'timeout': 90,\n",
    "    'retry': 120,\n",
    "    'queue_limit': 50,\n",
    "    'bulk': 10,\n",
    "    'orm': 'default'\n",
    "}```\n",
    "- 启动woker处理任务:```python manage.py qcluster```:\n",
    "\n",
    "```\n",
    "☁  django_q_demo [master] ⚡ python manage.py qcluster\n",
    "08:26:20 [Q] INFO Q Cluster-26350 starting.\n",
    "08:26:20 [Q] INFO Process-1:1 ready for work at 26353\n",
    "08:26:20 [Q] INFO Process-1:2 ready for work at 26354\n",
    "08:26:20 [Q] INFO Process-1:5 monitoring at 26357\n",
    "08:26:20 [Q] INFO Process-1:4 ready for work at 26356\n",
    "08:26:20 [Q] INFO Process-1:3 ready for work at 26355\n",
    "08:26:20 [Q] INFO Process-1:6 pushing tasks at 26358\n",
    "08:26:20 [Q] INFO Process-1 guarding cluster at 26352\n",
    "08:26:20 [Q] INFO Q Cluster-26350 running.\n",
    "```\n",
    "可以看到创建了1个主进程、4个worker、1个monitoring、1个pushing、1个guarding\n",
    "\n",
    "\n"
   ]
  },
  {
   "cell_type": "markdown",
   "metadata": {},
   "source": [
    "## 代办\n",
    "\n",
    "仿照http://www.sendcloud.net/email/#/sendAround/sendTest   发送界面,写个简单的邮件发送demo"
   ]
  }
 ],
 "metadata": {
  "kernelspec": {
   "display_name": "Python 3",
   "language": "python",
   "name": "python3"
  },
  "language_info": {
   "codemirror_mode": {
    "name": "ipython",
    "version": 3
   },
   "file_extension": ".py",
   "mimetype": "text/x-python",
   "name": "python",
   "nbconvert_exporter": "python",
   "pygments_lexer": "ipython3",
   "version": "3.6.1"
  }
 },
 "nbformat": 4,
 "nbformat_minor": 2
}
